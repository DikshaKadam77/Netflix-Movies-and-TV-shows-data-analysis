{
 "cells": [
  {
   "cell_type": "code",
   "execution_count": null,
   "id": "794b84fc",
   "metadata": {},
   "outputs": [],
   "source": [
    "import pandas as pd\n",
    "import numpy as np\n",
    "import matplotlib.pyplot as plt\n",
    "import seaborn as sns\n",
    "\n",
    "# for prettier plots\n",
    "plt.style.use('seaborn-darkgrid')\n",
    "sns.palette('deep')\n",
    "\n",
    "# reading the data\n",
    "df = pd.read_csv('netflix_titles.csv')\n",
    "df.head()\n"
   ]
  }
 ],
 "metadata": {
  "language_info": {
   "name": "python"
  }
 },
 "nbformat": 4,
 "nbformat_minor": 5
}
